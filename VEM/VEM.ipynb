{
 "cells": [
  {
   "cell_type": "markdown",
   "metadata": {
    "slideshow": {
     "slide_type": "slide"
    }
   },
   "source": [
    "<h1>\n",
    "    The Variational Approximation for Bayesian Inference\n",
    "</h1>\n",
    "<p>\n",
    "    Life after the EM Algorithm\n",
    "</p>\n",
    "<br>\n",
    "<p>\n",
    "    Dimitris G. Tzikas, Aristidis C. Likas, and Nikolaos P. Galatsanos`\n",
    "</p>\n",
    "<br>\n",
    "<br>\n",
    "<br>\n",
    "<br>\n",
    "<br>\n",
    "<p style=\"font-size:10px;\">CMI Lab Journal Club, 11/15/2019, Andrew Van</p>"
   ]
  },
  {
   "cell_type": "markdown",
   "metadata": {
    "slideshow": {
     "slide_type": "subslide"
    }
   },
   "source": [
    "<p>This subslide runs a bunch of scripts for this presentation.</p>\n",
    "<script>window.addEventListener('load', () => { Reveal.configure({ transition: 'fade' }); });</script>"
   ]
  },
  {
   "cell_type": "markdown",
   "metadata": {
    "slideshow": {
     "slide_type": "slide"
    }
   },
   "source": [
    "<h1>Motivation</h1>\n",
    "\n",
    "- Variational Methods?\n",
    "    - **How does Variational Expectation-Maximization work?**\n",
    "    - This applies to anything with the word \"Variational\" (e.g. Variational Autoencoder)\n",
    "    \n",
    "- Succinctly...\n",
    "    - Variational methods allow for the approximation of the posterior of latent variables\n",
    "    - Derives a lower bound for the marginal likelihood of the observed data"
   ]
  },
  {
   "cell_type": "markdown",
   "metadata": {
    "slideshow": {
     "slide_type": "slide"
    }
   },
   "source": [
    "<h1>Introduction</h1>\n",
    "\n",
    "- Expectation Maximization (EM) is awesome!\n",
    "    - Applications: Joint problems in image reconstruction, segmentation, registration, etc.\n",
    "    - We use it to find estimates of model parameters that rely on unobserved latent variables\n",
    "    - However, limited applicability when encountering complex models\n",
    "    \n",
    "- Variational approximation relaxes requirements of EM\n",
    "    - Can be applied to a wider range of models\n",
    "    - EM can be viewed as a special case of Variational EM (VEM)\n"
   ]
  },
  {
   "cell_type": "markdown",
   "metadata": {
    "slideshow": {
     "slide_type": "slide"
    }
   },
   "source": [
    "<h1>Expectation-Maximization</h1>\n",
    "\n",
    "We want to find:\n",
    "$$\n",
    "\\hat{\\theta} = \\underset{\\theta}{\\arg\\!\\max} \\; p(\\mathbf{x}; \\theta)\n",
    "$$\n",
    "\n",
    "In EM, we introduce unobserved latent variables (by marginalizing the latent variables):\n",
    "$$\n",
    "p(\\mathbf{x};\\theta) = \\int p(\\mathbf{x}, \\mathbf{z}; \\theta) d\\mathbf{z}\n",
    "$$\n",
    "This expression is known as the **marginal likelihood**."
   ]
  },
  {
   "cell_type": "markdown",
   "metadata": {
    "slideshow": {
     "slide_type": "slide"
    }
   },
   "source": [
    "<h1>Evidence Lower Bound (ELBO)</h1>\n",
    "\n",
    "$$\n",
    "\\ln p(x; \\theta) = \\int q(z) \\ln p(x; \\theta) dz \\\\\n",
    "= \\int q(z) \\ln \\Big( \\frac{p(x; \\theta) p(z | x; \\theta)}{p(z | x; \\theta)} \\Big) dz \\\\\n",
    "= \\int q(z) \\ln \\Big( \\frac{p(x, z; \\theta)}{p(z | x; \\theta)} \\Big) dz \\\\\n",
    "= \\int q(z) \\ln \\Big( \\frac{p(x, z; \\theta) q(z)}{p(z | x; \\theta) q(z)} \\Big) dz \\\\\n",
    "= \\int q(z) \\ln \\Big( \\frac{p(x, z; \\theta)}{q(z)} \\Big) dz - \\int q(z) \\ln \\Big( \\frac{p(z | x; \\theta)}{q(z)} \\Big) dz \\\\\n",
    "= F(q, \\theta) + KL(q || p)\n",
    "$$"
   ]
  },
  {
   "cell_type": "code",
   "execution_count": null,
   "metadata": {},
   "outputs": [],
   "source": []
  }
 ],
 "metadata": {
  "celltoolbar": "Slideshow",
  "kernelspec": {
   "display_name": "Python 3",
   "language": "python",
   "name": "python3"
  },
  "language_info": {
   "codemirror_mode": {
    "name": "ipython",
    "version": 3
   },
   "file_extension": ".py",
   "mimetype": "text/x-python",
   "name": "python",
   "nbconvert_exporter": "python",
   "pygments_lexer": "ipython3",
   "version": "3.8.0"
  }
 },
 "nbformat": 4,
 "nbformat_minor": 4
}
