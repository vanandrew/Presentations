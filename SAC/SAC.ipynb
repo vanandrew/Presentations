{
 "cells": [
  {
   "cell_type": "markdown",
   "metadata": {
    "slideshow": {
     "slide_type": "slide"
    }
   },
   "source": [
    "<h1>\n",
    "    Susceptability Artifact Correction without Fieldmaps\n",
    "</h1>\n",
    "<p style=\"font-size:10px;\">12/09/2019, Andrew Van</p>"
   ]
  },
  {
   "cell_type": "markdown",
   "metadata": {
    "slideshow": {
     "slide_type": "subslide"
    }
   },
   "source": [
    "<p>This subslide runs a bunch of scripts for this presentation.</p>\n",
    "<script>window.addEventListener('load', () => { Reveal.configure({ transition: 'fade' }); });</script>"
   ]
  },
  {
   "cell_type": "markdown",
   "metadata": {
    "slideshow": {
     "slide_type": "slide"
    }
   },
   "source": [
    "- Why?\n",
    "- Results\n",
    "- How this works\n",
    "- Some future directions"
   ]
  },
  {
   "cell_type": "markdown",
   "metadata": {
    "slideshow": {
     "slide_type": "slide"
    }
   },
   "source": [
    "<h1>\n",
    "    Susceptibility Artifact Correction\n",
    "</h1>\n",
    "\n",
    "- Caused by the interplay between the long readout time for BOLD imaging and the inhomogenities in the main magnetic field\n",
    "    - Causes geometric distortions\n",
    "- Usually corrected for by aquiring fieldmaps\n",
    "    - Some problems: Extant datasets without fieldmaps/corrupted fieldmaps\n",
    "- Correction without fieldmaps?\n",
    "    - T1/T2 not affected by SA... Can we use this information for unwarping?\n",
    "\n",
    "<img src=\"images/SAC.png\" style=\"width:300px;height:auto;margin-left:auto;margin-right:auto;display:block;\">"
   ]
  },
  {
   "cell_type": "markdown",
   "metadata": {
    "slideshow": {
     "slide_type": "slide"
    }
   },
   "source": [
    "<h1>\n",
    "    Fake functionals\n",
    "</h1>\n",
    "\n",
    "- Use T1/T2 to create a \"fake\" high-resolution functional using a transformation model\n",
    "    - Align this to a reference functional\n",
    "    - Requires estimating alignment and transformation model parameters at same time\n",
    "        - Joint optimization required!\n",
    "        \n",
    "<img src=\"images/fake_func.png\" style=\"width:75%;height:auto;margin-left:auto;margin-right:auto;display:block;\">\n",
    "<p style=\"text-align:center;\">\"Fake\" functional derived from T1/T2</p>"
   ]
  },
  {
   "cell_type": "markdown",
   "metadata": {
    "slideshow": {
     "slide_type": "slide"
    }
   },
   "source": [
    "<h1>\n",
    "    Results (Shift maps, alignments, etc.)\n",
    "</h1>\n",
    "<p>Open External Viewer</p>"
   ]
  },
  {
   "cell_type": "markdown",
   "metadata": {
    "slideshow": {
     "slide_type": "slide"
    }
   },
   "source": [
    "<h1>\n",
    "    Algorithm summary\n",
    "</h1>\n",
    "\n",
    "With non-linear warp parameters $\\gamma$:\n",
    "$$\n",
    "    y = f(M_{\\theta}F\\phi; \\gamma) + n\n",
    "$$\n",
    "\n",
    "- Anatomical mask with skull\n",
    "- Create reference volume of low movement frames\n",
    "- Create mask of voxels with relatively low motion\n",
    "- Do initial functional/anatomical alignement with MI metric\n",
    "- Iterative Registration (3x):\n",
    "    - Run joint optimization to get registration between anatomicals and reference functional***\n",
    "    - Run 3dQwarp with low motion voxel mask"
   ]
  },
  {
   "cell_type": "markdown",
   "metadata": {
    "slideshow": {
     "slide_type": "slide"
    }
   },
   "source": [
    "<h1>\n",
    "    Registration Model\n",
    "</h1>\n",
    "<br>\n",
    "$$\n",
    "    y = M_{\\theta}F\\phi + n\n",
    "$$\n",
    "\n",
    "- $y \\in \\mathbb{R}^{m}$: distorted EPI image\n",
    "- $F \\in \\mathbb{R}^{n \\times w}$: basis spanned by T1/T2 kernels with rbf (T1/T2 image of size $n$)\n",
    "    - i.e. $rbf(x;k) = \\exp \\left(\\frac{x - c_{0}}{2\\alpha^{2}}\\right) + ... + \\exp\\left(\\frac{x - c_{k}}{2\\alpha^{2}}\\right)$ where $c_{k}$ and $\\alpha$ are set to cover the entire image histogram equidistantly\n",
    "- $\\phi \\in \\mathbb{R}^{w}$: weights of transform model\n",
    "- $M_{\\theta} \\in \\mathbb{R}^{m \\times n}$: interpolation matrix parameterized by 12 parameter affine transform ($\\theta$)\n",
    "- $n$: additive gaussian noise"
   ]
  },
  {
   "cell_type": "markdown",
   "metadata": {
    "slideshow": {
     "slide_type": "slide"
    }
   },
   "source": [
    "<h1>\n",
    "    Joint optimization with Maximum Likelihood\n",
    "</h1>\n",
    "<br>\n",
    "$$\n",
    "    y = M_{\\theta}F\\phi + n\n",
    "$$\n",
    "\n",
    "- Objective: $\\{\\theta,\\phi\\} = \\underset{\\theta,\\phi}{\\arg \\max}\\ p(y|\\phi,\\theta)$\n",
    "$$\n",
    "    p(y|\\phi,\\theta) = \\frac{1}{Z}\\exp\\left(\\frac{-1}{2\\sigma^{2}}\\lVert y - M_{\\theta}F\\phi \\rVert_{2}^{2}\\right)\n",
    "$$\n",
    "where $Z$ is a normalizing factor and $\\sigma$ is the std. dev. of the noise distribution\n",
    "\n",
    "- Take the $-\\log p(y|\\phi,\\theta)$\n",
    "$$\n",
    "    \\underset{\\theta,\\phi}{\\arg \\min}\\ \\lVert y - M_{\\theta}F\\phi \\rVert_{2}^{2}\n",
    "$$\n"
   ]
  },
  {
   "cell_type": "markdown",
   "metadata": {
    "slideshow": {
     "slide_type": "slide"
    }
   },
   "source": [
    "<h1>\n",
    "    Alternating minimization\n",
    "</h1>\n",
    "<div style=\"margin-top:2rem;color:#FFF;\">\n",
    "    <div>1.) Initialize: $\\theta_{0}$</div>\n",
    "    <div>2.) for $j = 1,2,... k$ do</div>\n",
    "    <div>3.) &nbsp;&nbsp;&nbsp; $\\phi_{j} = (F^{\\intercal}F)^{-1}F^{\\intercal}M_{\\theta_{j-1}}^{\\intercal}y$</div>\n",
    "    <div>4.) &nbsp;&nbsp;&nbsp; $\\theta_{j} = \\theta_{j-1} + \\beta\\nabla_{\\theta}(\\lVert y - M_{\\theta}F\\phi_{j} \\rVert_{2}^{2})$</div>\n",
    "    <div>5.) end for</div>\n",
    "    <div>6.) return $\\{\\theta_{k},\\phi_{k}\\}$</div>\n",
    "</div>\n",
    "\n",
    "- Caveats:\n",
    "    - Convergence to optimum only if $\\theta_{0}$ is close!\n",
    "    - Only affine transform (non-linear warps done by 3dQwarp)"
   ]
  },
  {
   "cell_type": "markdown",
   "metadata": {
    "slideshow": {
     "slide_type": "slide"
    }
   },
   "source": [
    "<h1>\n",
    "    Future directions\n",
    "</h1>\n",
    "\n",
    "- Comparison with other correction methods\n",
    "    - Comparing to AFNI/FSL fieldmap correction methods\n",
    "    - Compare to ANTs fieldmapless correction\n",
    "    - Quantitative comparison? (Maybe look at intra/inter-subject variability on correlations)\n",
    "- More efficient optimization using expectation-maximization instead of alternating minimization\n",
    "- Incorporate own nonlinear registation into joint optimization algorithm"
   ]
  }
 ],
 "metadata": {
  "celltoolbar": "Slideshow",
  "kernelspec": {
   "display_name": "Python 3",
   "language": "python",
   "name": "python3"
  },
  "language_info": {
   "codemirror_mode": {
    "name": "ipython",
    "version": 3
   },
   "file_extension": ".py",
   "mimetype": "text/x-python",
   "name": "python",
   "nbconvert_exporter": "python",
   "pygments_lexer": "ipython3",
   "version": "3.8.0"
  }
 },
 "nbformat": 4,
 "nbformat_minor": 4
}
