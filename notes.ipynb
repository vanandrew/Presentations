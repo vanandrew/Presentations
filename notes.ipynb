{
 "cells": [
  {
   "cell_type": "markdown",
   "id": "82ad471b-d08d-4c7c-8fdd-dc1174095a87",
   "metadata": {},
   "source": [
    "![Test](screenshot_2634.png \"Test\")"
   ]
  },
  {
   "cell_type": "code",
   "execution_count": 1,
   "id": "6bee9aa0-09d5-470a-8e6e-c9985086d6a6",
   "metadata": {},
   "outputs": [],
   "source": [
    "from wbsurfer.images import Cifti, Gifti\n",
    "surface_left = (\n",
    "    \"/home/vanandrew/Data/sub-TBIPFM01/NativeVol/fsaverage_LR32k/sub-TBIPFM01.L.very_inflated.32k_fs_LR.surf.gii\"\n",
    ")\n",
    "parcellation_file = \"/home/vanandrew/Data/rawassn_minsize10_regularized_recolored.dscalar.nii\"\n",
    "cifti = Cifti(parcellation_file)\n",
    "gifti_left = Gifti(surface_left)"
   ]
  },
  {
   "cell_type": "code",
   "execution_count": 2,
   "id": "e0b91f8f-2b0a-478a-ba50-e25e554ff2aa",
   "metadata": {},
   "outputs": [],
   "source": [
    "from wbsurfer.isomorph import (\n",
    "    color_lut,\n",
    "    get_parcellation,\n",
    "    networks,\n",
    "    visualize_graph,\n",
    ")\n",
    "import numpy as np\n",
    "from vedo import Text2D\n",
    "from typing import Dict\n",
    "def hover_parcel(event: Dict) -> None:\n",
    "    \"\"\"Handler for vedo plot mouse interaction\n",
    "\n",
    "    Parameters\n",
    "    ----------\n",
    "    event : Dict\n",
    "        plot event\n",
    "    \"\"\"\n",
    "    mesh = event.actor\n",
    "    if not mesh:\n",
    "        return\n",
    "    pt = event.picked3d\n",
    "    # get index of closest point on mesh\n",
    "    ptid = mesh.closestPoint(pt, returnPointId=True)\n",
    "    # get the parcel this point belongs to\n",
    "    for idx, p in enumerate(parcels):\n",
    "        if ptid in p:\n",
    "            network = networks[parcellation_nodes[p][\"network\"]]\n",
    "            msg.text(f\"Network: {network}, Parcel: {idx}, Vertex: {ptid}\")\n",
    "            return\n",
    "    msg.text(f\"Vertex: {ptid}\")"
   ]
  },
  {
   "cell_type": "code",
   "execution_count": 3,
   "id": "7f4f255d-3f3b-44fa-995a-90bb4acf3de5",
   "metadata": {},
   "outputs": [],
   "source": [
    "# get cifti data\n",
    "l_vrtable, _, _, r_vrtable, r_start, r_end = cifti.get_vertex_row_table()\n",
    "row_data = cifti.row_data\n",
    "# remap 1.5 and 2.5 to no network\n",
    "row_data[row_data == 1.5] = 0\n",
    "row_data[row_data == 2.5] = 0\n",
    "row_data = row_data.astype(\"u1\")[0][:r_end]\n",
    "# set invalid network assignments\n",
    "row_data[row_data >= 18] = 0\n",
    "vrtable = l_vrtable\n",
    "network_data = row_data[:r_start]\n",
    "# set left/right surface, network assignment colors\n",
    "gifti_left.mesh.visual.vertex_colors[l_vrtable] = color_lut[row_data[:r_start]]"
   ]
  },
  {
   "cell_type": "code",
   "execution_count": 4,
   "id": "205d9674-01d1-4ec9-8caa-4988fdfb51b9",
   "metadata": {},
   "outputs": [],
   "source": [
    "# get parcellation representation of the data\n",
    "parcellation_graph, parcellation_nodes = get_parcellation(gifti_left, vrtable, network_data, threshold=20)\n",
    "# create a new map that keys by parcellation index\n",
    "parcellation_map = {int(v[\"label\"]): v for v in parcellation_nodes.values()}\n",
    "parcels = parcellation_nodes.keys()"
   ]
  },
  {
   "cell_type": "code",
   "execution_count": 5,
   "id": "1f4499ec-5ab0-49d5-ab17-a064301ed4dd",
   "metadata": {},
   "outputs": [
    {
     "data": {
      "text/html": [
       "\n",
       "        <iframe\n",
       "            width=\"1280px\"\n",
       "            height=\"720px\"\n",
       "            src=\"visual.html\"\n",
       "            frameborder=\"0\"\n",
       "            allowfullscreen\n",
       "            \n",
       "        ></iframe>\n",
       "        "
      ],
      "text/plain": [
       "<IPython.lib.display.IFrame at 0x7f4b5562d4f0>"
      ]
     },
     "execution_count": 5,
     "metadata": {},
     "output_type": "execute_result"
    }
   ],
   "source": [
    "# # render mesh\n",
    "# msg = Text2D(pos='bottom-left', font=\"VictorMono\", c=\"white\")\n",
    "# gifti_left.render2([(\"MouseMove\", hover_parcel)], [msg])\n",
    "# visualize graph\n",
    "visualize_graph(parcellation_graph).show(\"visual.html\")"
   ]
  },
  {
   "cell_type": "markdown",
   "id": "8f1ec0f8-2f38-4634-a096-52ba1f0f3723",
   "metadata": {},
   "source": [
    "![](graph.jpg)\n",
    "\n",
    "![](subgraphs.jpg)"
   ]
  },
  {
   "cell_type": "markdown",
   "id": "2d52c79f-b527-4700-b4be-a168ac5faf87",
   "metadata": {},
   "source": [
    "![](full_graph.png)\n",
    "\n",
    "![](mirror_graph.png)\n",
    "\n",
    "![](center_graph.png)"
   ]
  },
  {
   "cell_type": "code",
   "execution_count": 8,
   "id": "7455c64e-6603-4c9c-a36a-1d7d0288b989",
   "metadata": {},
   "outputs": [],
   "source": [
    "# simulate cifti data\n",
    "c_0 = [5867, 5826, 5866, 5825, 5906]\n",
    "c_1 = [5827, 5868, 5785, 5786, 5828, 5869]\n",
    "c_2 = [5829, 5870, 5787, 5744, 5745, 5787, 5829, 5870, 5788, 5830, 5871]\n",
    "c_3 = [5905, 5865, 5943, 5904, 5864, 5942, 5903]\n",
    "r_0 = [5743, 5742, 5784, 5741, 5698, 5699]\n",
    "l_0 = [5907, 5908, 5909, 5947, 5946]\n",
    "r_1 = [5700, 5701, 5657]\n",
    "l_1 = [5871, 5910, 5948, 5949, 5911, 5872]\n",
    "r_2 = [5783, 5740, 5782, 5824, 5696, 5739]\n",
    "l_2 = [5945, 5983, 5982, 5944, 5981, 5943]\n",
    "r_3 = [5656, 5610, 5611, 5563, 5564, 5565, 5612]\n",
    "l_3 = [5950, 5987, 5988]\n",
    "r_4 = [5697, 5652, 5653, 5607, 5606, 5608, 5654]\n",
    "l_4 = [5984, 6020, 6021, 6056]\n",
    "r_5 = [5902, 5862, 5901]\n",
    "l_5 = [5979, 6015]\n",
    "fake_network_data = np.zeros(gifti_left.mesh.visual.vertex_colors.shape[0], dtype=\"u1\")\n",
    "fake_network_data[c_0] = 1\n",
    "fake_network_data[c_1] = 2\n",
    "fake_network_data[c_2] = 3\n",
    "fake_network_data[c_3] = 7\n",
    "fake_network_data[r_0] = 4\n",
    "fake_network_data[l_0] = 4\n",
    "fake_network_data[r_1] = 5\n",
    "fake_network_data[l_1] = 5\n",
    "fake_network_data[r_2] = 6\n",
    "fake_network_data[l_2] = 6\n",
    "fake_network_data[r_3] = 9\n",
    "fake_network_data[l_3] = 9\n",
    "fake_network_data[r_4] = 10\n",
    "fake_network_data[l_4] = 10\n",
    "fake_network_data[r_5] = 11\n",
    "fake_network_data[l_5] = 11\n",
    "# add network colors to mesh\n",
    "gifti_left.mesh.visual.vertex_colors = color_lut[fake_network_data]\n",
    "# create fake data for mesh\n",
    "fake_vrtable = np.arange(gifti_left.mesh.visual.vertex_colors.shape[0])\n",
    "vrtable = fake_vrtable\n",
    "network_data = fake_network_data\n",
    "parcellation_graph, parcellation_nodes = get_parcellation(gifti_left, vrtable, network_data, threshold=0)\n",
    "parcels = parcellation_nodes.keys()\n",
    "parcellation_map = {int(v[\"label\"]): v for v in parcellation_nodes.values()}"
   ]
  },
  {
   "cell_type": "code",
   "execution_count": 9,
   "id": "fa1d254e-782f-44f2-815e-564584c595d9",
   "metadata": {},
   "outputs": [
    {
     "data": {
      "text/html": [
       "\n",
       "        <iframe\n",
       "            width=\"1280px\"\n",
       "            height=\"720px\"\n",
       "            src=\"visual.html\"\n",
       "            frameborder=\"0\"\n",
       "            allowfullscreen\n",
       "            \n",
       "        ></iframe>\n",
       "        "
      ],
      "text/plain": [
       "<IPython.lib.display.IFrame at 0x7f4bb42498b0>"
      ]
     },
     "execution_count": 9,
     "metadata": {},
     "output_type": "execute_result"
    }
   ],
   "source": [
    "# render mesh\n",
    "msg = Text2D(pos='bottom-left', font=\"VictorMono\", c=\"white\")\n",
    "gifti_left.render2([(\"MouseMove\", hover_parcel)], [msg])\n",
    "# visualize the graph\n",
    "visualize_graph(parcellation_graph).show(\"visual.html\")"
   ]
  },
  {
   "cell_type": "code",
   "execution_count": null,
   "id": "b46d6dcb-866d-4c46-8c35-bfe8fc8c47e8",
   "metadata": {},
   "outputs": [],
   "source": []
  }
 ],
 "metadata": {
  "kernelspec": {
   "display_name": "Python 3",
   "language": "python",
   "name": "python3"
  },
  "language_info": {
   "codemirror_mode": {
    "name": "ipython",
    "version": 3
   },
   "file_extension": ".py",
   "mimetype": "text/x-python",
   "name": "python",
   "nbconvert_exporter": "python",
   "pygments_lexer": "ipython3",
   "version": "3.9.13"
  }
 },
 "nbformat": 4,
 "nbformat_minor": 5
}
