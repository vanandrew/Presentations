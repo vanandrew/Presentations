{
 "cells": [
  {
   "cell_type": "markdown",
   "metadata": {
    "slideshow": {
     "slide_type": "slide"
    }
   },
   "source": [
    "<h1 class=\"text-center\">Generative Modeling of Neuroimaging Data using Generative\n",
    "Adversarial Networks</h1>\n",
    "<br>\n",
    "<h6 class=\"text-center\">Andrew Van</h6>\n",
    "<h6 class=\"text-center\">Advisor: Nico Dosenbach</h6>\n",
    "<script type=\"text/javascript\">\n",
    "$(window).load(function(){\n",
    "    Reveal.configure({\n",
    "        transition: 'fade' // none/fade/slide/convex/concave/zoom\n",
    "    })\n",
    "});    \n",
    "</script>"
   ]
  },
  {
   "cell_type": "code",
   "execution_count": 1,
   "metadata": {
    "slideshow": {
     "slide_type": "subslide"
    }
   },
   "outputs": [
    {
     "data": {
      "text/html": [
       "<script>\n",
       "code_show=true; \n",
       "function code_toggle() {\n",
       " if (code_show){\n",
       "   $('div.input').hide();\n",
       "   $('div.prompt.output_prompt').css('opacity', 0);\n",
       " } else {\n",
       "   $('div.input').show();\n",
       "   $('div.prompt.output_prompt').css('opacity', 1);\n",
       " }\n",
       " code_show = !code_show\n",
       "} \n",
       "$(document).ready(code_toggle);\n",
       "</script>\n",
       "<a href=\"javascript:code_toggle()\"><button>Toggle Code</button></a>\n"
      ],
      "text/plain": [
       "<IPython.core.display.HTML object>"
      ]
     },
     "execution_count": 1,
     "metadata": {},
     "output_type": "execute_result"
    }
   ],
   "source": [
    "from IPython.display import HTML\n",
    "HTML('''<script>\n",
    "code_show=true; \n",
    "function code_toggle() {\n",
    " if (code_show){\n",
    "   $('div.input').hide();\n",
    "   $('div.prompt.output_prompt').css('opacity', 0);\n",
    " } else {\n",
    "   $('div.input').show();\n",
    "   $('div.prompt.output_prompt').css('opacity', 1);\n",
    " }\n",
    " code_show = !code_show\n",
    "} \n",
    "$(document).ready(code_toggle);\n",
    "</script>\n",
    "<a href=\"javascript:code_toggle()\"><button>Toggle Code</button></a>\n",
    "''')"
   ]
  },
  {
   "cell_type": "markdown",
   "metadata": {
    "slideshow": {
     "slide_type": "slide"
    }
   },
   "source": [
    "<h3 class=\"text-center\">Overview</h3>\n",
    "\n",
    "- What are GANs?\n",
    "    - Theory\n",
    "    - Limitations\n",
    "- Model Training\n",
    "    - Progressive GAN and Wasserstein Distance (How do these address limitations?)\n",
    "    - Results\n",
    "- Applications\n",
    "    - Reconstruction in Underdetermined Systems\n",
    "    - Anomaly Detection\n",
    "- Future Directions"
   ]
  },
  {
   "cell_type": "markdown",
   "metadata": {
    "slideshow": {
     "slide_type": "slide"
    }
   },
   "source": [
    "<h3 class=\"text-center\">What are Generative Adversarial Networks (GANs)?</h3>\n",
    "\n",
    "- Take two networks and train them in an adversarial manner...\n",
    "\n",
    "<div>\n",
    "<img style=\"display:block;margin-right:auto;margin-left:auto;\" src=\"images/GANdiag.png\" width=60% height=auto>\n",
    "</div>\n",
    "<p style=\"text-align: center\">GAN Training Process</p>"
   ]
  },
  {
   "cell_type": "markdown",
   "metadata": {
    "slideshow": {
     "slide_type": "slide"
    }
   },
   "source": [
    "<h3 class=\"text-center\">What are GANs?</h3>\n",
    "\n",
    "- ...and they can make really convincing fake images.\n",
    "\n",
    "<div>\n",
    "<img style=\"display:block;margin-right:auto;margin-left:auto;\" src=\"images/stylegan-teaser.png\" width=90% height=auto>\n",
    "</div>\n",
    "<p style=\"text-align: center\">These are not real people! <a href=\"https://arxiv.org/abs/1812.04948\" target=\"_blank\">StyleGAN</a></p>"
   ]
  },
  {
   "cell_type": "markdown",
   "metadata": {
    "slideshow": {
     "slide_type": "slide"
    }
   },
   "source": [
    "<h3 class=\"text-center\">Fake Images? So What?</h3>\n",
    "\n",
    "- GANs capture an underlying process that generated our dataset.\n",
    "    - Creating realistic fake examples is the byproduct of a well-trained model.\n",
    "- A data-driven prior!\n",
    "        \n",
    "<div>\n",
    "<img style=\"display:block;margin-right:auto;margin-left:auto;\" src=\"images/imageinpainting.png\" width=75% height=auto>\n",
    "</div>\n",
    "<p style=\"text-align: center\"><a href=\"https://arxiv.org/abs/1604.07379\" target=\"_blank\">Image Inpainting</a></p>"
   ]
  },
  {
   "cell_type": "markdown",
   "metadata": {
    "slideshow": {
     "slide_type": "slide"
    }
   },
   "source": [
    "<h3 class=\"text-center\">What is Generative Modeling?</h3>\n",
    "\n",
    "- Discriminative models\n",
    "    - Map high-dimensional data to a class label\n",
    "    - e.g. Given an image, is it a cat/dog?\n",
    "- Generative models answer a somewhat opposite question\n",
    "    - Given a sample drawn from a distribution, we want to learn an estimate of that distribution\n",
    "    - e.g. Given a set of cats/dogs, learn the images that generate each class.\n",
    "\n",
    "<div>\n",
    "<img style=\"display:block;margin-right:auto;margin-left:auto;\" src=\"images/density_estimation.png\" width=75% height=auto>\n",
    "</div>\n",
    "<p><center>Generative Modeling: Estimating a distribution from sample</center></p>"
   ]
  },
  {
   "cell_type": "markdown",
   "metadata": {
    "slideshow": {
     "slide_type": "slide"
    }
   },
   "source": [
    "<h3><center>Taxonomy of generative modeling</center></h3>\n",
    "\n",
    "<div>\n",
    "    <img style=\"display:block;margin:auto;\" src=\"images/taxonomy.png\" width=80% height=auto>\n",
    "</div>\n",
    "<p><center>Types of generative models (maximum likelihood)</center></p>"
   ]
  },
  {
   "cell_type": "markdown",
   "metadata": {
    "slideshow": {
     "slide_type": "slide"
    }
   },
   "source": [
    "<h3 class=\"text-center\">GANs compared to other generative models</h3>\n",
    "\n",
    "- GANs are implicit density models\n",
    "    - A black box: we don't have access to the actual distribution, we can only draw samples from it.\n",
    "- Explicit models define the distribution explicitly. We have a known parameterization of our model.\n",
    "    - The difficulty comes in having an explicit model complex enough to capture the data complexity of dataset, while still being computationally tractable.\n",
    "        - Bound on complexity of model to ensure tractability\n",
    "    - e.g. Fully Visible Belief Networks (FVBNs), Variational Autoencoders\n",
    "- Advantages\n",
    "    - More computationally tractable than explicit models\n",
    "        - Does not use any Markov Chains\n",
    "        - Can be trained using back-propagation\n",
    "    - No approximations needed. Can learn any dataset distribution (given enough examples and layers).\n",
    "    - Subjectively, the research community has found that GANs provide better samples than any other method."
   ]
  },
  {
   "cell_type": "markdown",
   "metadata": {
    "slideshow": {
     "slide_type": "slide"
    }
   },
   "source": [
    "<h3 class=\"text-center\">GAN Theory</h3>\n",
    "\n",
    "- Two networks: generator and discriminator setup in a zero-sum game\n",
    "    - Discriminator Objective: Pick out fake from real\n",
    "    - Generator Objective: Create a fake indistinguishable from real\n",
    "\n",
    "<div>\n",
    "<img style=\"display:block;margin-right:auto;margin-left:auto;\" src=\"images/GANdiag.png\" width=60% height=auto>\n",
    "</div>\n",
    "<p style=\"text-align: center\">GAN Training Process</p>"
   ]
  },
  {
   "cell_type": "markdown",
   "metadata": {
    "slideshow": {
     "slide_type": "slide"
    }
   },
   "source": [
    "<h3 class=\"text-center\">GAN Theory</h3>\n",
    "\n",
    "- This is a two-player minimax game:\n",
    "\n",
    "$$ \\min_{G} \\max_{D} \\underset{\\mathbf{x} \\sim \\mathbb{P}_{r}}{\\mathbb{E}}[\\log D(\\mathbf{x})] + \\underset{\\mathbf{z} \\sim \\mathbb{P}_{\\mathbf{z}}}{\\mathbb{E}}[\\log (1 - D(G(\\mathbf{z})))] $$\n",
    "\n",
    "- From game theory, we find the Nash Equilibirum for this system\n",
    "    - We reach Nash Equilibrium when $\\mathbb{P}_{r} = \\mathbb{P}_{g}$, and $D(x) = 0.5$ for all inputs."
   ]
  },
  {
   "cell_type": "markdown",
   "metadata": {
    "slideshow": {
     "slide_type": "slide"
    }
   },
   "source": [
    "<h3 class=\"text-center\">Limitations</h3>"
   ]
  },
  {
   "cell_type": "markdown",
   "metadata": {
    "slideshow": {
     "slide_type": "slide"
    }
   },
   "source": [
    "<h3 class=\"text-center\">Model Training</h3>\n",
    "\n",
    "- HCP Data\n",
    "- Progressive GAN\n",
    "- Wasserstein Distance"
   ]
  },
  {
   "cell_type": "markdown",
   "metadata": {
    "slideshow": {
     "slide_type": "slide"
    }
   },
   "source": [
    "<h3 class=\"text-center\">Dataset Characterization</h3>"
   ]
  },
  {
   "cell_type": "markdown",
   "metadata": {
    "slideshow": {
     "slide_type": "slide"
    }
   },
   "source": [
    "<h3 class=\"text-center\">Progressive GAN</h3>"
   ]
  },
  {
   "cell_type": "markdown",
   "metadata": {
    "slideshow": {
     "slide_type": "slide"
    }
   },
   "source": [
    "<h3 class=\"text-center\">Wasserstein Distance</h3>"
   ]
  },
  {
   "cell_type": "markdown",
   "metadata": {
    "slideshow": {
     "slide_type": "slide"
    }
   },
   "source": [
    "<h3 class=\"text-center\">Wasserstein Distance with Gradient Penalty</h3>\n",
    "\n",
    "$$ \\min_{G} \\max_{D} \\underset{\\mathbf{z} \\sim \\mathbb{P}_{\\mathbf{z}}}{\\mathbb{E}}[D(G(\\mathbf{z}))] - \\underset{\\mathbf{x} \\sim \\mathbb{P}_{r}}{\\mathbb{E}}[D(\\mathbf{x})] + \\lambda \\underset{\\hat{\\mathbf{x}} \\sim \\mathbb{P}_{\\hat{\\mathbf{x}}}}{\\mathbb{E}}[(\\lVert \\nabla_{\\hat{\\mathbf{x}}} D(\\hat{\\mathbf{x}}) \\rVert_{2} - 1)^{2}] $$"
   ]
  },
  {
   "cell_type": "markdown",
   "metadata": {
    "slideshow": {
     "slide_type": "slide"
    }
   },
   "source": [
    "<h3 class=\"text-center\">Loss Functions</h3>"
   ]
  },
  {
   "cell_type": "markdown",
   "metadata": {
    "slideshow": {
     "slide_type": "slide"
    }
   },
   "source": [
    "<h3 class=\"text-center\">Fake vs. Real</h3>"
   ]
  },
  {
   "cell_type": "markdown",
   "metadata": {
    "slideshow": {
     "slide_type": "slide"
    }
   },
   "source": [
    "<h3 class=\"text-center\">Latent Vector Walk</h3>"
   ]
  },
  {
   "cell_type": "markdown",
   "metadata": {
    "slideshow": {
     "slide_type": "slide"
    }
   },
   "source": [
    "<h3 class=\"text-center\">Nearest Neighbor</h3>"
   ]
  },
  {
   "cell_type": "markdown",
   "metadata": {
    "slideshow": {
     "slide_type": "slide"
    }
   },
   "source": [
    "<h3 class=\"text-center\">Underdetermined Reconstruction</h3>"
   ]
  },
  {
   "cell_type": "markdown",
   "metadata": {
    "slideshow": {
     "slide_type": "slide"
    }
   },
   "source": [
    "<h3 class=\"text-center\">Anomaly Detection</h3>"
   ]
  },
  {
   "cell_type": "markdown",
   "metadata": {
    "slideshow": {
     "slide_type": "slide"
    }
   },
   "source": [
    "<h3 class=\"text-center\">Future Directions</h3>"
   ]
  }
 ],
 "metadata": {
  "celltoolbar": "Slideshow",
  "kernelspec": {
   "display_name": "Python 3",
   "language": "python",
   "name": "python3"
  },
  "language_info": {
   "codemirror_mode": {
    "name": "ipython",
    "version": 3
   },
   "file_extension": ".py",
   "mimetype": "text/x-python",
   "name": "python",
   "nbconvert_exporter": "python",
   "pygments_lexer": "ipython3",
   "version": "3.7.3"
  }
 },
 "nbformat": 4,
 "nbformat_minor": 2
}
